{
 "cells": [
  {
   "cell_type": "markdown",
   "id": "16a43588-ef2b-4e01-be51-9255bbf56ff0",
   "metadata": {},
   "source": [
    "# 4. Look up the documentation for L ..."
   ]
  },
  {
   "cell_type": "code",
   "execution_count": null,
   "id": "732de6f6-7424-4c86-8a05-ca88b3f9f871",
   "metadata": {},
   "outputs": [],
   "source": [
    "from fastai.vision.all import *"
   ]
  },
  {
   "cell_type": "code",
   "execution_count": null,
   "id": "fb405526-ac1d-42b8-a2db-29961a0a443c",
   "metadata": {},
   "outputs": [
    {
     "data": {
      "text/plain": [
       "\u001b[0;31mInit signature:\u001b[0m \u001b[0mL\u001b[0m\u001b[0;34m(\u001b[0m\u001b[0mitems\u001b[0m\u001b[0;34m=\u001b[0m\u001b[0;32mNone\u001b[0m\u001b[0;34m,\u001b[0m \u001b[0;34m*\u001b[0m\u001b[0mrest\u001b[0m\u001b[0;34m,\u001b[0m \u001b[0muse_list\u001b[0m\u001b[0;34m=\u001b[0m\u001b[0;32mFalse\u001b[0m\u001b[0;34m,\u001b[0m \u001b[0mmatch\u001b[0m\u001b[0;34m=\u001b[0m\u001b[0;32mNone\u001b[0m\u001b[0;34m)\u001b[0m\u001b[0;34m\u001b[0m\u001b[0;34m\u001b[0m\u001b[0m\n",
       "\u001b[0;31mDocstring:\u001b[0m      Behaves like a list of `items` but can also index with list of indices or masks\n",
       "\u001b[0;31mFile:\u001b[0m           ~/mambaforge/envs/fastai/lib/python3.9/site-packages/fastcore/foundation.py\n",
       "\u001b[0;31mType:\u001b[0m           _L_Meta\n",
       "\u001b[0;31mSubclasses:\u001b[0m     TfmdLists, MultiCategory, LabeledBBox\n"
      ]
     },
     "metadata": {},
     "output_type": "display_data"
    }
   ],
   "source": [
    "?L"
   ]
  },
  {
   "cell_type": "code",
   "execution_count": null,
   "id": "0df324fd-995d-4cb7-8263-4063d9dcf820",
   "metadata": {},
   "outputs": [
    {
     "data": {
      "text/html": [
       "<hr/>\n",
       "<h3>L</h3>\n",
       "<blockquote><pre><code>L(items=None, *rest, use_list=False, match=None)</code></pre></blockquote><p>Behaves like a list of `items` but can also index with list of indices or masks</p>\n",
       "<p><a href=\"https://fastcore.fast.ai/foundation.html#l\" target=\"_blank\" rel=\"noreferrer noopener\">Show in docs</a></p>"
      ],
      "text/plain": [
       "<IPython.core.display.HTML object>"
      ]
     },
     "metadata": {},
     "output_type": "display_data"
    }
   ],
   "source": [
    "doc(L)"
   ]
  },
  {
   "cell_type": "code",
   "execution_count": null,
   "id": "05ec5026-838a-4e69-8a3f-d8780be570f6",
   "metadata": {},
   "outputs": [
    {
     "data": {
      "text/plain": [
       "(#10) [0,1,2,3,4,5,6,7,8,9]"
      ]
     },
     "execution_count": null,
     "metadata": {},
     "output_type": "execute_result"
    }
   ],
   "source": [
    "t = L(range(10))\n",
    "t"
   ]
  },
  {
   "cell_type": "code",
   "execution_count": null,
   "id": "5a76b5bf-beba-4fcd-95b2-5a97f071bfe9",
   "metadata": {},
   "outputs": [
    {
     "data": {
      "text/plain": [
       "(#5) [0,1,2,3,4]"
      ]
     },
     "execution_count": null,
     "metadata": {},
     "output_type": "execute_result"
    }
   ],
   "source": [
    "t.filter(lambda x: x < 5)"
   ]
  },
  {
   "cell_type": "code",
   "execution_count": null,
   "id": "97f8f8db-c946-48a1-b6b4-7f0f1a1f6d37",
   "metadata": {},
   "outputs": [
    {
     "data": {
      "text/plain": [
       "(#6) [4,5,6,7,8,9]"
      ]
     },
     "execution_count": null,
     "metadata": {},
     "output_type": "execute_result"
    }
   ],
   "source": [
    "t.argwhere(ge(4))"
   ]
  },
  {
   "cell_type": "code",
   "execution_count": null,
   "id": "9d684e57-0849-495e-9b13-1573c41d6f92",
   "metadata": {},
   "outputs": [
    {
     "data": {
      "text/plain": [
       "(#11) [-1,0,1,2,3,4,5,6,7,8...]"
      ]
     },
     "execution_count": null,
     "metadata": {},
     "output_type": "execute_result"
    }
   ],
   "source": [
    "-1 + t"
   ]
  },
  {
   "cell_type": "markdown",
   "id": "90ba9550-e73c-449c-a863-4e9a1303109f",
   "metadata": {},
   "source": [
    "# 13. Calculate exp and softmax yourself"
   ]
  },
  {
   "cell_type": "code",
   "execution_count": null,
   "id": "c270fe8e-8623-43b3-a552-fd45812a9b7c",
   "metadata": {},
   "outputs": [
    {
     "data": {
      "text/html": [
       "<div>\n",
       "<style scoped>\n",
       "    .dataframe tbody tr th:only-of-type {\n",
       "        vertical-align: middle;\n",
       "    }\n",
       "\n",
       "    .dataframe tbody tr th {\n",
       "        vertical-align: top;\n",
       "    }\n",
       "\n",
       "    .dataframe thead th {\n",
       "        text-align: right;\n",
       "    }\n",
       "</style>\n",
       "<table border=\"1\" class=\"dataframe\">\n",
       "  <thead>\n",
       "    <tr style=\"text-align: right;\">\n",
       "      <th></th>\n",
       "      <th>output</th>\n",
       "    </tr>\n",
       "  </thead>\n",
       "  <tbody>\n",
       "    <tr>\n",
       "      <th>teddy</th>\n",
       "      <td>0.02</td>\n",
       "    </tr>\n",
       "    <tr>\n",
       "      <th>grizzly</th>\n",
       "      <td>-2.49</td>\n",
       "    </tr>\n",
       "    <tr>\n",
       "      <th>brown</th>\n",
       "      <td>1.25</td>\n",
       "    </tr>\n",
       "  </tbody>\n",
       "</table>\n",
       "</div>"
      ],
      "text/plain": [
       "         output\n",
       "teddy      0.02\n",
       "grizzly   -2.49\n",
       "brown      1.25"
      ]
     },
     "execution_count": null,
     "metadata": {},
     "output_type": "execute_result"
    }
   ],
   "source": [
    "df = pd.DataFrame({'output': [0.02, -2.49, 1.25]}, index = ['teddy', 'grizzly', 'brown'])\n",
    "df"
   ]
  },
  {
   "cell_type": "code",
   "execution_count": null,
   "id": "3b6f5f71-2558-4518-a347-c4734b5d371f",
   "metadata": {},
   "outputs": [
    {
     "data": {
      "text/html": [
       "<div>\n",
       "<style scoped>\n",
       "    .dataframe tbody tr th:only-of-type {\n",
       "        vertical-align: middle;\n",
       "    }\n",
       "\n",
       "    .dataframe tbody tr th {\n",
       "        vertical-align: top;\n",
       "    }\n",
       "\n",
       "    .dataframe thead th {\n",
       "        text-align: right;\n",
       "    }\n",
       "</style>\n",
       "<table border=\"1\" class=\"dataframe\">\n",
       "  <thead>\n",
       "    <tr style=\"text-align: right;\">\n",
       "      <th></th>\n",
       "      <th>output</th>\n",
       "      <th>exp</th>\n",
       "    </tr>\n",
       "  </thead>\n",
       "  <tbody>\n",
       "    <tr>\n",
       "      <th>teddy</th>\n",
       "      <td>0.02</td>\n",
       "      <td>1.020201</td>\n",
       "    </tr>\n",
       "    <tr>\n",
       "      <th>grizzly</th>\n",
       "      <td>-2.49</td>\n",
       "      <td>0.082910</td>\n",
       "    </tr>\n",
       "    <tr>\n",
       "      <th>brown</th>\n",
       "      <td>1.25</td>\n",
       "      <td>3.490343</td>\n",
       "    </tr>\n",
       "  </tbody>\n",
       "</table>\n",
       "</div>"
      ],
      "text/plain": [
       "         output       exp\n",
       "teddy      0.02  1.020201\n",
       "grizzly   -2.49  0.082910\n",
       "brown      1.25  3.490343"
      ]
     },
     "execution_count": null,
     "metadata": {},
     "output_type": "execute_result"
    }
   ],
   "source": [
    "df['exp'] = np.exp(df.output)\n",
    "df"
   ]
  },
  {
   "cell_type": "code",
   "execution_count": null,
   "id": "78285018-3dd5-48f9-977d-d6a071f422c9",
   "metadata": {},
   "outputs": [
    {
     "data": {
      "text/html": [
       "<div>\n",
       "<style scoped>\n",
       "    .dataframe tbody tr th:only-of-type {\n",
       "        vertical-align: middle;\n",
       "    }\n",
       "\n",
       "    .dataframe tbody tr th {\n",
       "        vertical-align: top;\n",
       "    }\n",
       "\n",
       "    .dataframe thead th {\n",
       "        text-align: right;\n",
       "    }\n",
       "</style>\n",
       "<table border=\"1\" class=\"dataframe\">\n",
       "  <thead>\n",
       "    <tr style=\"text-align: right;\">\n",
       "      <th></th>\n",
       "      <th>output</th>\n",
       "      <th>exp</th>\n",
       "      <th>softmax</th>\n",
       "    </tr>\n",
       "  </thead>\n",
       "  <tbody>\n",
       "    <tr>\n",
       "      <th>teddy</th>\n",
       "      <td>0.02</td>\n",
       "      <td>1.020201</td>\n",
       "      <td>0.222099</td>\n",
       "    </tr>\n",
       "    <tr>\n",
       "      <th>grizzly</th>\n",
       "      <td>-2.49</td>\n",
       "      <td>0.082910</td>\n",
       "      <td>0.018050</td>\n",
       "    </tr>\n",
       "    <tr>\n",
       "      <th>brown</th>\n",
       "      <td>1.25</td>\n",
       "      <td>3.490343</td>\n",
       "      <td>0.759851</td>\n",
       "    </tr>\n",
       "  </tbody>\n",
       "</table>\n",
       "</div>"
      ],
      "text/plain": [
       "         output       exp   softmax\n",
       "teddy      0.02  1.020201  0.222099\n",
       "grizzly   -2.49  0.082910  0.018050\n",
       "brown      1.25  3.490343  0.759851"
      ]
     },
     "execution_count": null,
     "metadata": {},
     "output_type": "execute_result"
    }
   ],
   "source": [
    "df['softmax'] = df.exp / np.sum(df.exp)\n",
    "df"
   ]
  },
  {
   "cell_type": "markdown",
   "id": "9d3fd809-8948-4b0c-9eca-4884db2f2551",
   "metadata": {},
   "source": [
    "# Scratch"
   ]
  },
  {
   "cell_type": "code",
   "execution_count": null,
   "id": "3e42c674-f8ac-4721-9c2f-c5027d243045",
   "metadata": {},
   "outputs": [],
   "source": []
  }
 ],
 "metadata": {
  "kernelspec": {
   "display_name": "Python 3 (ipykernel)",
   "language": "python",
   "name": "python3"
  }
 },
 "nbformat": 4,
 "nbformat_minor": 5
}
