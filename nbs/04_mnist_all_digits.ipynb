{
 "cells": [
  {
   "cell_type": "markdown",
   "id": "f4933f07-d49b-4bc2-aad3-2fd6989da929",
   "metadata": {},
   "source": [
    "# MNIST Digit Classification"
   ]
  },
  {
   "cell_type": "markdown",
   "id": "a35955b5-a1fb-4877-b17c-b448f26666c7",
   "metadata": {},
   "source": [
    "## Setup"
   ]
  },
  {
   "cell_type": "code",
   "execution_count": null,
   "id": "c7a57815-2ea2-44a1-a76d-94d0cd365635",
   "metadata": {},
   "outputs": [],
   "source": [
    "#hide\n",
    "# ! [ -e /content ] && pip install -Uqq fastbook\n",
    "import fastbook\n",
    "fastbook.setup_book()"
   ]
  },
  {
   "cell_type": "code",
   "execution_count": null,
   "id": "02cbd068-6790-456a-8bfb-808c1ead7c9f",
   "metadata": {},
   "outputs": [],
   "source": [
    "batch_size = 256"
   ]
  },
  {
   "cell_type": "code",
   "execution_count": null,
   "id": "e4799a19-7073-479c-a1d9-44e6c52aae0f",
   "metadata": {},
   "outputs": [],
   "source": [
    "#hide\n",
    "from fastai.vision.all import *\n",
    "from fastbook import *\n",
    "\n",
    "matplotlib.rc('image', cmap='Greys')"
   ]
  },
  {
   "cell_type": "code",
   "execution_count": null,
   "id": "ae898e4e-3cf2-4a8d-a85a-633a775bcaba",
   "metadata": {},
   "outputs": [],
   "source": [
    "path = untar_data(URLs.MNIST)"
   ]
  },
  {
   "cell_type": "code",
   "execution_count": null,
   "id": "fffb97db-3208-419f-90ad-452cbeff43a5",
   "metadata": {},
   "outputs": [],
   "source": [
    "#hide\n",
    "Path.BASE_PATH = path"
   ]
  },
  {
   "cell_type": "markdown",
   "id": "4f571dfe-7ebd-4d85-8eab-219584de53e5",
   "metadata": {},
   "source": [
    "## Load Data & Prepare DataLoaders"
   ]
  },
  {
   "cell_type": "code",
   "execution_count": null,
   "id": "1783ca16-491d-474a-92f0-f5a899fa9c99",
   "metadata": {},
   "outputs": [
    {
     "data": {
      "text/plain": [
       "[Path('testing/0/10.png'),\n",
       " Path('testing/0/1001.png'),\n",
       " Path('testing/0/1009.png'),\n",
       " Path('testing/0/101.png'),\n",
       " Path('testing/0/1034.png'),\n",
       " Path('testing/0/1047.png'),\n",
       " Path('testing/0/1061.png'),\n",
       " Path('testing/0/1084.png'),\n",
       " Path('testing/0/1094.png'),\n",
       " Path('testing/0/1121.png')]"
      ]
     },
     "execution_count": null,
     "metadata": {},
     "output_type": "execute_result"
    }
   ],
   "source": [
    "digits_training = sorted((path/'training/').glob('*/*.png'))\n",
    "digits_testing = sorted((path/'testing/').glob('*/*.png'))\n",
    "digits_testing[:10]"
   ]
  },
  {
   "cell_type": "code",
   "execution_count": null,
   "id": "ba7f618f-ae8e-4eb8-9193-f97ce0b79ee1",
   "metadata": {},
   "outputs": [
    {
     "data": {
      "text/plain": [
       "(60000, 10000)"
      ]
     },
     "execution_count": null,
     "metadata": {},
     "output_type": "execute_result"
    }
   ],
   "source": [
    "training_tensors = [tensor(Image.open(o)) for o in digits_training]\n",
    "testing_tensors = [tensor(Image.open(o)) for o in digits_testing]\n",
    "len(training_tensors),len(testing_tensors)"
   ]
  },
  {
   "cell_type": "code",
   "execution_count": null,
   "id": "5a7ae60f-7d49-40c5-86cc-a8fc722b9a82",
   "metadata": {},
   "outputs": [
    {
     "name": "stdout",
     "output_type": "stream",
     "text": [
      "60000\n"
     ]
    }
   ],
   "source": [
    "!find {path/'training'} -type f | wc -l"
   ]
  },
  {
   "cell_type": "code",
   "execution_count": null,
   "id": "c1d600fd-8fb5-478b-9e29-31dcf255b589",
   "metadata": {},
   "outputs": [
    {
     "name": "stdout",
     "output_type": "stream",
     "text": [
      "10000\n"
     ]
    }
   ],
   "source": [
    "!find {path/'testing'} -type f | wc -l"
   ]
  },
  {
   "cell_type": "code",
   "execution_count": null,
   "id": "60b9195d-7791-4b71-a0b0-f1bd248b4403",
   "metadata": {},
   "outputs": [
    {
     "data": {
      "text/plain": [
       "torch.Size([60000, 28, 28])"
      ]
     },
     "execution_count": null,
     "metadata": {},
     "output_type": "execute_result"
    }
   ],
   "source": [
    "train_stacked = torch.stack(training_tensors).float()/255\n",
    "valid_stacked = torch.stack(testing_tensors).float()/255\n",
    "train_stacked.shape"
   ]
  },
  {
   "cell_type": "code",
   "execution_count": null,
   "id": "b6f1e835-f63f-417a-a78a-f58e50264806",
   "metadata": {},
   "outputs": [
    {
     "data": {
      "text/plain": [
       "(torch.Size([60000, 784]), torch.Size([60000]))"
      ]
     },
     "execution_count": null,
     "metadata": {},
     "output_type": "execute_result"
    }
   ],
   "source": [
    "train_x = train_stacked.view(-1, 28*28)\n",
    "train_y = [int(str(x).split('/')[-2]) for x in digits_training]\n",
    "train_y = tensor(train_y)\n",
    "# train_y[30000:30100]\n",
    "train_x.shape,train_y.shape"
   ]
  },
  {
   "cell_type": "code",
   "execution_count": null,
   "id": "a410a888-9e2c-4bba-81b8-dedc493d492a",
   "metadata": {},
   "outputs": [
    {
     "name": "stdout",
     "output_type": "stream",
     "text": [
      "tensor([0, 0, 0, 0, 0, 0, 0, 0, 0, 0])\n"
     ]
    }
   ],
   "source": [
    "print(train_y[:10])"
   ]
  },
  {
   "cell_type": "code",
   "execution_count": null,
   "id": "871c65c1-834a-4b2e-addd-1e3758cce2bd",
   "metadata": {},
   "outputs": [
    {
     "data": {
      "text/plain": [
       "(torch.Size([10000, 784]), torch.Size([10000]))"
      ]
     },
     "execution_count": null,
     "metadata": {},
     "output_type": "execute_result"
    }
   ],
   "source": [
    "valid_x = valid_stacked.view(-1, 28*28)\n",
    "valid_y = [int(str(x).split('/')[-2]) for x in digits_testing]\n",
    "valid_y = tensor(valid_y)\n",
    "# valid_y[3000:3100]\n",
    "valid_x.shape,valid_y.shape"
   ]
  },
  {
   "cell_type": "code",
   "execution_count": null,
   "id": "1620fe1f-5f95-457f-b58d-b2ef5404d5c5",
   "metadata": {},
   "outputs": [
    {
     "name": "stdout",
     "output_type": "stream",
     "text": [
      "tensor([0, 0, 0, 0, 0, 0, 0, 0, 0, 0])\n"
     ]
    }
   ],
   "source": [
    "print(valid_y[:10])"
   ]
  },
  {
   "cell_type": "code",
   "execution_count": null,
   "id": "1ee3d7aa-2133-48b1-b081-f819271d9868",
   "metadata": {},
   "outputs": [
    {
     "name": "stdout",
     "output_type": "stream",
     "text": [
      "256\n"
     ]
    }
   ],
   "source": [
    "print(batch_size)\n",
    "train_dl = DataLoader(list(zip(train_x, train_y)), batch_size=batch_size, shuffle=True)\n",
    "valid_dl = DataLoader(list(zip(valid_x, valid_y)), batch_size=batch_size, shuffle=True)"
   ]
  },
  {
   "cell_type": "code",
   "execution_count": null,
   "id": "6b36bc03-1b1e-4419-9d1b-d9d08fec6f0b",
   "metadata": {},
   "outputs": [
    {
     "data": {
      "text/plain": [
       "<fastai.data.core.DataLoaders>"
      ]
     },
     "execution_count": null,
     "metadata": {},
     "output_type": "execute_result"
    }
   ],
   "source": [
    "dls = DataLoaders(train_dl, valid_dl)\n",
    "dls"
   ]
  },
  {
   "cell_type": "code",
   "execution_count": null,
   "id": "c20a1a39-25cd-4b70-b7c0-6b04b8ad9211",
   "metadata": {},
   "outputs": [
    {
     "data": {
      "text/plain": [
       "2"
      ]
     },
     "execution_count": null,
     "metadata": {},
     "output_type": "execute_result"
    }
   ],
   "source": [
    "dls.valid_ds[3000][1].item()"
   ]
  },
  {
   "cell_type": "code",
   "execution_count": null,
   "id": "fc05bee8-af15-466f-9439-be396b671c55",
   "metadata": {},
   "outputs": [
    {
     "data": {
      "text/plain": [
       "10000"
      ]
     },
     "execution_count": null,
     "metadata": {},
     "output_type": "execute_result"
    }
   ],
   "source": [
    "len(dls.valid_ds)"
   ]
  },
  {
   "cell_type": "code",
   "execution_count": null,
   "id": "e96bdb07-f1a6-4d4e-8a21-37d0e096ef34",
   "metadata": {},
   "outputs": [
    {
     "data": {
      "text/plain": [
       "60000"
      ]
     },
     "execution_count": null,
     "metadata": {},
     "output_type": "execute_result"
    }
   ],
   "source": [
    "len(dls.train_ds)"
   ]
  },
  {
   "cell_type": "code",
   "execution_count": null,
   "id": "66bc17e4-be5e-4562-aa91-39e1cca17c0e",
   "metadata": {},
   "outputs": [
    {
     "name": "stdout",
     "output_type": "stream",
     "text": [
      "235\n"
     ]
    }
   ],
   "source": [
    "print(len(dls.train))"
   ]
  },
  {
   "cell_type": "code",
   "execution_count": null,
   "id": "b25c9998-91eb-4a6b-8703-8a0a17141d26",
   "metadata": {},
   "outputs": [
    {
     "name": "stdout",
     "output_type": "stream",
     "text": [
      "num_train_batches: 235\n"
     ]
    }
   ],
   "source": [
    "num_train_batches = 0\n",
    "for xb, yb in dls.train:\n",
    "    num_train_batches += 1\n",
    "    \n",
    "print(f'num_train_batches: {num_train_batches}')"
   ]
  },
  {
   "cell_type": "code",
   "execution_count": null,
   "id": "2b55af24-c8a0-4617-882b-1ec4612a9c91",
   "metadata": {},
   "outputs": [
    {
     "name": "stdout",
     "output_type": "stream",
     "text": [
      "40\n"
     ]
    }
   ],
   "source": [
    "print(len(dls.valid))"
   ]
  },
  {
   "cell_type": "code",
   "execution_count": null,
   "id": "ec161d51-eebd-463d-815a-f6d98dc5c2f7",
   "metadata": {},
   "outputs": [
    {
     "name": "stdout",
     "output_type": "stream",
     "text": [
      "num_valid_batches: 40\n"
     ]
    }
   ],
   "source": [
    "num_valid_batches = 0\n",
    "for xb, yb in dls.valid:\n",
    "    num_valid_batches += 1\n",
    "    # print(yb.shape)\n",
    "    \n",
    "print(f'num_valid_batches: {num_valid_batches}')"
   ]
  },
  {
   "cell_type": "markdown",
   "id": "6e142abe-5261-43c9-aad1-e1a521362534",
   "metadata": {},
   "source": [
    "## Create Model Architecture"
   ]
  },
  {
   "cell_type": "code",
   "execution_count": null,
   "id": "3bb4dfde-57bc-4b29-b2b8-4fbc21e37773",
   "metadata": {},
   "outputs": [
    {
     "data": {
      "text/plain": [
       "True"
      ]
     },
     "execution_count": null,
     "metadata": {},
     "output_type": "execute_result"
    }
   ],
   "source": [
    "import torch\n",
    "torch.cuda.is_available()"
   ]
  },
  {
   "cell_type": "code",
   "execution_count": null,
   "id": "67993197-edd8-4f15-b483-648c6b838248",
   "metadata": {},
   "outputs": [],
   "source": [
    "# from tqdm.auto import tqdm\n",
    "import time\n",
    "import pandas as pd\n",
    "import ipywidgets as widgets\n",
    "import IPython.display as dsp\n",
    "# from IPython.display import HTML, display\n",
    "\n",
    "class MyLearner:\n",
    "    \n",
    "    def __init__(self,\n",
    "                 dls,\n",
    "                 model: 'callable',\n",
    "                 opt_func: 'callable',\n",
    "                 metrics: 'callable',\n",
    "                 loss_func: 'callable | None' = None,\n",
    "                 lr: float = 0.001,\n",
    "                 device: str = 'cpu'):\n",
    "        self.dls = dls\n",
    "        self.model = model\n",
    "        self.metrics = metrics\n",
    "        self.loss_func = loss_func\n",
    "        self.opt_func = opt_func\n",
    "        self.lr = lr\n",
    "        self.training_summary = pd.DataFrame(columns=['epoch', 'train_loss', 'valid_loss', 'metric', 'time'])\n",
    "        self.device = torch.device(device)\n",
    "        \n",
    "        self.model = self.model.to(self.device)\n",
    "\n",
    "    \n",
    "    def _validate_epoch(self):\n",
    "        epoch_valid_loss = 0.0\n",
    "        batch_metrics = []\n",
    "        for xb, yb in self.dls.valid:\n",
    "            xb = xb.to(self.device)\n",
    "            yb = yb.to(self.device)\n",
    "            preds = self.model(xb)\n",
    "            epoch_valid_loss += self.loss_func(preds, yb).item()\n",
    "            batch_metrics.append(self.metrics(preds, yb))\n",
    "        epoch_valid_loss /= len(self.dls.valid)\n",
    "        return epoch_valid_loss, torch.tensor(batch_metrics).mean().item()\n",
    "    \n",
    "    def debug(self):\n",
    "        print(self.model.parameters())\n",
    "    \n",
    "    def fit(self, n_epoch: int = 10, lr: 'float | None' = None):\n",
    "        if not lr:\n",
    "            lr = self.lr\n",
    "        \n",
    "        # Initialize training progress display\n",
    "        self.training_summary = self.training_summary[0:0]\n",
    "        progress_bar = widgets.IntProgress(value=0, min=1, max=n_epoch+1, step=1, description=f'[0 / {n_epoch}]')\n",
    "        dsp.display(progress_bar, dsp.HTML(self.training_summary.to_html(index=False)))\n",
    "        \n",
    "        # Initialize optimizer\n",
    "        params = self.model.parameters()\n",
    "        optimizer = self.opt_func(params, lr=lr)\n",
    "            \n",
    "        # Training loop\n",
    "        for i in range(n_epoch):\n",
    "            # Train\n",
    "            t0 = time.time()\n",
    "\n",
    "            epoch_train_loss = 0.0\n",
    "            for xb, yb in self.dls.train:\n",
    "                xb = xb.to(self.device)\n",
    "                yb = yb.to(self.device)\n",
    "                preds = self.model(xb)\n",
    "                loss = self.loss_func(preds, yb)\n",
    "                loss.backward()\n",
    "                optimizer.step()\n",
    "                optimizer.zero_grad()\n",
    "                epoch_train_loss += loss.item()\n",
    "            epoch_train_loss /= len(self.dls.train)\n",
    "            \n",
    "            # Validation\n",
    "            with torch.no_grad():\n",
    "                epoch_valid_loss, epoch_valid_metric = self._validate_epoch()\n",
    "            \n",
    "            # Update training progress display\n",
    "            progress_bar.value += 1\n",
    "            progress_bar.description = f'[{i+1} / {n_epoch}]'\n",
    "            t1 = time.time()\n",
    "            epoch_summary = pd.DataFrame([{'epoch': i, 'train_loss': epoch_train_loss, 'valid_loss': epoch_valid_loss, 'metric': epoch_valid_metric, 'time': t1-t0}])\n",
    "            self.training_summary = pd.concat([self.training_summary, epoch_summary])\n",
    "            dsp.clear_output()\n",
    "            dsp.display(progress_bar, dsp.HTML(self.training_summary.to_html(index=False)))\n",
    "            "
   ]
  },
  {
   "cell_type": "code",
   "execution_count": null,
   "id": "8a503ddc-b81b-4569-9595-1488edeb82fd",
   "metadata": {},
   "outputs": [],
   "source": [
    "def batch_accuracy(pred_tensor, actual):\n",
    "    # print(f'pred_tensor: {pred_tensor}')\n",
    "    # pred = torch.argmax(pred_tensor)\n",
    "    pred = pred_tensor.max(dim=1)[1]\n",
    "    # print(f'pred: {pred}')\n",
    "    # print(f'actual: {actual}')\n",
    "    # raise Exception('Test stop point')\n",
    "    return (pred == actual).float().mean().item()"
   ]
  },
  {
   "cell_type": "code",
   "execution_count": null,
   "id": "6806ac9c-103e-4d04-8735-dc9620243c9c",
   "metadata": {},
   "outputs": [
    {
     "data": {
      "application/vnd.jupyter.widget-view+json": {
       "model_id": "e263f91ca8434409bafe1e6237b43fce",
       "version_major": 2,
       "version_minor": 0
      },
      "text/plain": [
       "IntProgress(value=21, description='[20 / 20]', max=21, min=1)"
      ]
     },
     "metadata": {},
     "output_type": "display_data"
    },
    {
     "data": {
      "text/html": [
       "<table border=\"1\" class=\"dataframe\">\n",
       "  <thead>\n",
       "    <tr style=\"text-align: right;\">\n",
       "      <th>epoch</th>\n",
       "      <th>train_loss</th>\n",
       "      <th>valid_loss</th>\n",
       "      <th>metric</th>\n",
       "      <th>time</th>\n",
       "    </tr>\n",
       "  </thead>\n",
       "  <tbody>\n",
       "    <tr>\n",
       "      <td>0</td>\n",
       "      <td>1.152907</td>\n",
       "      <td>0.467667</td>\n",
       "      <td>0.844727</td>\n",
       "      <td>1.224382</td>\n",
       "    </tr>\n",
       "    <tr>\n",
       "      <td>1</td>\n",
       "      <td>0.379791</td>\n",
       "      <td>0.322802</td>\n",
       "      <td>0.902051</td>\n",
       "      <td>0.903247</td>\n",
       "    </tr>\n",
       "    <tr>\n",
       "      <td>2</td>\n",
       "      <td>0.314990</td>\n",
       "      <td>0.304635</td>\n",
       "      <td>0.907715</td>\n",
       "      <td>0.759126</td>\n",
       "    </tr>\n",
       "    <tr>\n",
       "      <td>3</td>\n",
       "      <td>0.276943</td>\n",
       "      <td>0.260111</td>\n",
       "      <td>0.922949</td>\n",
       "      <td>0.759755</td>\n",
       "    </tr>\n",
       "    <tr>\n",
       "      <td>4</td>\n",
       "      <td>0.247037</td>\n",
       "      <td>0.229006</td>\n",
       "      <td>0.934375</td>\n",
       "      <td>0.819127</td>\n",
       "    </tr>\n",
       "    <tr>\n",
       "      <td>5</td>\n",
       "      <td>0.223366</td>\n",
       "      <td>0.206633</td>\n",
       "      <td>0.941211</td>\n",
       "      <td>0.829346</td>\n",
       "    </tr>\n",
       "    <tr>\n",
       "      <td>6</td>\n",
       "      <td>0.201739</td>\n",
       "      <td>0.213195</td>\n",
       "      <td>0.938184</td>\n",
       "      <td>0.817453</td>\n",
       "    </tr>\n",
       "    <tr>\n",
       "      <td>7</td>\n",
       "      <td>0.183708</td>\n",
       "      <td>0.201639</td>\n",
       "      <td>0.937695</td>\n",
       "      <td>0.823342</td>\n",
       "    </tr>\n",
       "    <tr>\n",
       "      <td>8</td>\n",
       "      <td>0.169019</td>\n",
       "      <td>0.177410</td>\n",
       "      <td>0.948535</td>\n",
       "      <td>0.845161</td>\n",
       "    </tr>\n",
       "    <tr>\n",
       "      <td>9</td>\n",
       "      <td>0.156672</td>\n",
       "      <td>0.167596</td>\n",
       "      <td>0.950488</td>\n",
       "      <td>1.019285</td>\n",
       "    </tr>\n",
       "    <tr>\n",
       "      <td>10</td>\n",
       "      <td>0.146122</td>\n",
       "      <td>0.155298</td>\n",
       "      <td>0.952734</td>\n",
       "      <td>0.835664</td>\n",
       "    </tr>\n",
       "    <tr>\n",
       "      <td>11</td>\n",
       "      <td>0.136687</td>\n",
       "      <td>0.162116</td>\n",
       "      <td>0.951758</td>\n",
       "      <td>0.836745</td>\n",
       "    </tr>\n",
       "    <tr>\n",
       "      <td>12</td>\n",
       "      <td>0.128958</td>\n",
       "      <td>0.151361</td>\n",
       "      <td>0.953906</td>\n",
       "      <td>0.870190</td>\n",
       "    </tr>\n",
       "    <tr>\n",
       "      <td>13</td>\n",
       "      <td>0.121820</td>\n",
       "      <td>0.135937</td>\n",
       "      <td>0.959180</td>\n",
       "      <td>1.111543</td>\n",
       "    </tr>\n",
       "    <tr>\n",
       "      <td>14</td>\n",
       "      <td>0.116394</td>\n",
       "      <td>0.136846</td>\n",
       "      <td>0.959473</td>\n",
       "      <td>0.786658</td>\n",
       "    </tr>\n",
       "    <tr>\n",
       "      <td>15</td>\n",
       "      <td>0.110539</td>\n",
       "      <td>0.139596</td>\n",
       "      <td>0.956348</td>\n",
       "      <td>0.743677</td>\n",
       "    </tr>\n",
       "    <tr>\n",
       "      <td>16</td>\n",
       "      <td>0.105965</td>\n",
       "      <td>0.138059</td>\n",
       "      <td>0.958887</td>\n",
       "      <td>0.824238</td>\n",
       "    </tr>\n",
       "    <tr>\n",
       "      <td>17</td>\n",
       "      <td>0.101488</td>\n",
       "      <td>0.128301</td>\n",
       "      <td>0.961328</td>\n",
       "      <td>0.795431</td>\n",
       "    </tr>\n",
       "    <tr>\n",
       "      <td>18</td>\n",
       "      <td>0.098027</td>\n",
       "      <td>0.133030</td>\n",
       "      <td>0.958398</td>\n",
       "      <td>0.826078</td>\n",
       "    </tr>\n",
       "    <tr>\n",
       "      <td>19</td>\n",
       "      <td>0.093803</td>\n",
       "      <td>0.124560</td>\n",
       "      <td>0.962109</td>\n",
       "      <td>0.856129</td>\n",
       "    </tr>\n",
       "  </tbody>\n",
       "</table>"
      ],
      "text/plain": [
       "<IPython.core.display.HTML object>"
      ]
     },
     "metadata": {},
     "output_type": "display_data"
    }
   ],
   "source": [
    "simple_net = nn.Sequential(\n",
    "    nn.Linear(28*28,30),\n",
    "    nn.ReLU(),\n",
    "    nn.Linear(30, 30),\n",
    "    nn.ReLU(),\n",
    "    nn.Linear(30,10)\n",
    ")\n",
    "# learner = MyLearner(dls, simple_net, opt_func=SGD, loss_func=nn.CrossEntropyLoss(), metrics=batch_accuracy)\n",
    "learner = MyLearner(dls, simple_net, opt_func=SGD, loss_func=nn.CrossEntropyLoss(), metrics=batch_accuracy, device='cuda')\n",
    "learner.fit(20, 0.1)"
   ]
  },
  {
   "cell_type": "code",
   "execution_count": null,
   "id": "1332296f-f14b-43dd-be0a-d606b48cd55c",
   "metadata": {},
   "outputs": [
    {
     "data": {
      "text/html": [
       "\n",
       "<style>\n",
       "    /* Turns off some styling */\n",
       "    progress {\n",
       "        /* gets rid of default border in Firefox and Opera. */\n",
       "        border: none;\n",
       "        /* Needs to be in here for Safari polyfill so background images work as expected. */\n",
       "        background-size: auto;\n",
       "    }\n",
       "    progress:not([value]), progress:not([value])::-webkit-progress-bar {\n",
       "        background: repeating-linear-gradient(45deg, #7e7e7e, #7e7e7e 10px, #5c5c5c 10px, #5c5c5c 20px);\n",
       "    }\n",
       "    .progress-bar-interrupted, .progress-bar-interrupted::-webkit-progress-bar {\n",
       "        background: #F44336;\n",
       "    }\n",
       "</style>\n"
      ],
      "text/plain": [
       "<IPython.core.display.HTML object>"
      ]
     },
     "metadata": {},
     "output_type": "display_data"
    },
    {
     "data": {
      "text/html": [
       "<table border=\"1\" class=\"dataframe\">\n",
       "  <thead>\n",
       "    <tr style=\"text-align: left;\">\n",
       "      <th>epoch</th>\n",
       "      <th>train_loss</th>\n",
       "      <th>valid_loss</th>\n",
       "      <th>accuracy</th>\n",
       "      <th>time</th>\n",
       "    </tr>\n",
       "  </thead>\n",
       "  <tbody>\n",
       "    <tr>\n",
       "      <td>0</td>\n",
       "      <td>0.531983</td>\n",
       "      <td>0.434135</td>\n",
       "      <td>0.875000</td>\n",
       "      <td>00:00</td>\n",
       "    </tr>\n",
       "    <tr>\n",
       "      <td>1</td>\n",
       "      <td>0.354307</td>\n",
       "      <td>0.336662</td>\n",
       "      <td>0.904700</td>\n",
       "      <td>00:00</td>\n",
       "    </tr>\n",
       "    <tr>\n",
       "      <td>2</td>\n",
       "      <td>0.289925</td>\n",
       "      <td>0.281631</td>\n",
       "      <td>0.916700</td>\n",
       "      <td>00:00</td>\n",
       "    </tr>\n",
       "    <tr>\n",
       "      <td>3</td>\n",
       "      <td>0.262873</td>\n",
       "      <td>0.249166</td>\n",
       "      <td>0.927400</td>\n",
       "      <td>00:01</td>\n",
       "    </tr>\n",
       "    <tr>\n",
       "      <td>4</td>\n",
       "      <td>0.239947</td>\n",
       "      <td>0.254365</td>\n",
       "      <td>0.923700</td>\n",
       "      <td>00:00</td>\n",
       "    </tr>\n",
       "    <tr>\n",
       "      <td>5</td>\n",
       "      <td>0.215922</td>\n",
       "      <td>0.212549</td>\n",
       "      <td>0.935300</td>\n",
       "      <td>00:00</td>\n",
       "    </tr>\n",
       "    <tr>\n",
       "      <td>6</td>\n",
       "      <td>0.194177</td>\n",
       "      <td>0.202376</td>\n",
       "      <td>0.938600</td>\n",
       "      <td>00:00</td>\n",
       "    </tr>\n",
       "    <tr>\n",
       "      <td>7</td>\n",
       "      <td>0.184403</td>\n",
       "      <td>0.208364</td>\n",
       "      <td>0.938900</td>\n",
       "      <td>00:00</td>\n",
       "    </tr>\n",
       "    <tr>\n",
       "      <td>8</td>\n",
       "      <td>0.173474</td>\n",
       "      <td>0.189639</td>\n",
       "      <td>0.944400</td>\n",
       "      <td>00:00</td>\n",
       "    </tr>\n",
       "    <tr>\n",
       "      <td>9</td>\n",
       "      <td>0.163192</td>\n",
       "      <td>0.177720</td>\n",
       "      <td>0.946600</td>\n",
       "      <td>00:00</td>\n",
       "    </tr>\n",
       "    <tr>\n",
       "      <td>10</td>\n",
       "      <td>0.151442</td>\n",
       "      <td>0.169614</td>\n",
       "      <td>0.947700</td>\n",
       "      <td>00:00</td>\n",
       "    </tr>\n",
       "    <tr>\n",
       "      <td>11</td>\n",
       "      <td>0.150248</td>\n",
       "      <td>0.163894</td>\n",
       "      <td>0.950900</td>\n",
       "      <td>00:00</td>\n",
       "    </tr>\n",
       "    <tr>\n",
       "      <td>12</td>\n",
       "      <td>0.143791</td>\n",
       "      <td>0.160413</td>\n",
       "      <td>0.952700</td>\n",
       "      <td>00:00</td>\n",
       "    </tr>\n",
       "    <tr>\n",
       "      <td>13</td>\n",
       "      <td>0.131932</td>\n",
       "      <td>0.166592</td>\n",
       "      <td>0.950000</td>\n",
       "      <td>00:00</td>\n",
       "    </tr>\n",
       "    <tr>\n",
       "      <td>14</td>\n",
       "      <td>0.131763</td>\n",
       "      <td>0.152776</td>\n",
       "      <td>0.955000</td>\n",
       "      <td>00:00</td>\n",
       "    </tr>\n",
       "    <tr>\n",
       "      <td>15</td>\n",
       "      <td>0.122531</td>\n",
       "      <td>0.148914</td>\n",
       "      <td>0.955800</td>\n",
       "      <td>00:00</td>\n",
       "    </tr>\n",
       "    <tr>\n",
       "      <td>16</td>\n",
       "      <td>0.120997</td>\n",
       "      <td>0.142435</td>\n",
       "      <td>0.957900</td>\n",
       "      <td>00:00</td>\n",
       "    </tr>\n",
       "    <tr>\n",
       "      <td>17</td>\n",
       "      <td>0.109982</td>\n",
       "      <td>0.142423</td>\n",
       "      <td>0.958400</td>\n",
       "      <td>00:00</td>\n",
       "    </tr>\n",
       "    <tr>\n",
       "      <td>18</td>\n",
       "      <td>0.111029</td>\n",
       "      <td>0.145619</td>\n",
       "      <td>0.957600</td>\n",
       "      <td>00:00</td>\n",
       "    </tr>\n",
       "    <tr>\n",
       "      <td>19</td>\n",
       "      <td>0.111312</td>\n",
       "      <td>0.135393</td>\n",
       "      <td>0.961500</td>\n",
       "      <td>00:00</td>\n",
       "    </tr>\n",
       "  </tbody>\n",
       "</table>"
      ],
      "text/plain": [
       "<IPython.core.display.HTML object>"
      ]
     },
     "metadata": {},
     "output_type": "display_data"
    }
   ],
   "source": [
    "simple_net = nn.Sequential(\n",
    "    nn.Linear(28*28,30),\n",
    "    nn.ReLU(),\n",
    "    nn.Linear(30, 30),\n",
    "    nn.ReLU(),\n",
    "    nn.Linear(30,10)\n",
    ")\n",
    "learner2 = Learner(dls, simple_net, opt_func=SGD, loss_func=nn.CrossEntropyLoss(), metrics=accuracy)\n",
    "learner2.fit(20, 0.1)"
   ]
  },
  {
   "cell_type": "code",
   "execution_count": null,
   "id": "e55338ae-4af3-4e76-927c-02b0bdf19f01",
   "metadata": {},
   "outputs": [],
   "source": []
  }
 ],
 "metadata": {
  "kernelspec": {
   "display_name": "Python 3 (ipykernel)",
   "language": "python",
   "name": "python3"
  }
 },
 "nbformat": 4,
 "nbformat_minor": 5
}
