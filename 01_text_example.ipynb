{
 "cells": [
  {
   "cell_type": "code",
   "execution_count": null,
   "id": "1d62562d",
   "metadata": {},
   "outputs": [],
   "source": [
    "from fastai.text.all import *\n",
    "\n",
    "# Batch size of 32 uses about 10 GB of VRAM\n",
    "dls = TextDataLoaders.from_folder(untar_data(URLs.IMDB), valid='test', bs=32)"
   ]
  },
  {
   "cell_type": "code",
   "execution_count": null,
   "id": "59390594",
   "metadata": {},
   "outputs": [
    {
     "data": {
      "text/plain": [
       "'https://s3.amazonaws.com/fast-ai-nlp/imdb.tgz'"
      ]
     },
     "execution_count": null,
     "metadata": {},
     "output_type": "execute_result"
    }
   ],
   "source": [
    "URLs.IMDB"
   ]
  },
  {
   "cell_type": "code",
   "execution_count": null,
   "id": "8709ad7a",
   "metadata": {},
   "outputs": [],
   "source": [
    "learn = text_classifier_learner(dls, AWD_LSTM, drop_mult=0.5, metrics=accuracy)"
   ]
  },
  {
   "cell_type": "code",
   "execution_count": null,
   "id": "3a7866d1",
   "metadata": {},
   "outputs": [
    {
     "data": {
      "text/html": [
       "<table border=\"1\" class=\"dataframe\">\n",
       "  <thead>\n",
       "    <tr style=\"text-align: left;\">\n",
       "      <th>epoch</th>\n",
       "      <th>train_loss</th>\n",
       "      <th>valid_loss</th>\n",
       "      <th>accuracy</th>\n",
       "      <th>time</th>\n",
       "    </tr>\n",
       "  </thead>\n",
       "  <tbody>\n",
       "    <tr>\n",
       "      <td>0</td>\n",
       "      <td>0.473228</td>\n",
       "      <td>0.405500</td>\n",
       "      <td>0.821840</td>\n",
       "      <td>06:58</td>\n",
       "    </tr>\n",
       "  </tbody>\n",
       "</table>"
      ],
      "text/plain": [
       "<IPython.core.display.HTML object>"
      ]
     },
     "metadata": {},
     "output_type": "display_data"
    },
    {
     "data": {
      "text/html": [
       "<table border=\"1\" class=\"dataframe\">\n",
       "  <thead>\n",
       "    <tr style=\"text-align: left;\">\n",
       "      <th>epoch</th>\n",
       "      <th>train_loss</th>\n",
       "      <th>valid_loss</th>\n",
       "      <th>accuracy</th>\n",
       "      <th>time</th>\n",
       "    </tr>\n",
       "  </thead>\n",
       "  <tbody>\n",
       "    <tr>\n",
       "      <td>0</td>\n",
       "      <td>0.289099</td>\n",
       "      <td>0.250167</td>\n",
       "      <td>0.895480</td>\n",
       "      <td>05:46</td>\n",
       "    </tr>\n",
       "    <tr>\n",
       "      <td>1</td>\n",
       "      <td>0.233276</td>\n",
       "      <td>0.199387</td>\n",
       "      <td>0.924760</td>\n",
       "      <td>05:47</td>\n",
       "    </tr>\n",
       "    <tr>\n",
       "      <td>2</td>\n",
       "      <td>0.171834</td>\n",
       "      <td>0.190158</td>\n",
       "      <td>0.926080</td>\n",
       "      <td>05:39</td>\n",
       "    </tr>\n",
       "    <tr>\n",
       "      <td>3</td>\n",
       "      <td>0.146951</td>\n",
       "      <td>0.187200</td>\n",
       "      <td>0.930960</td>\n",
       "      <td>05:39</td>\n",
       "    </tr>\n",
       "  </tbody>\n",
       "</table>"
      ],
      "text/plain": [
       "<IPython.core.display.HTML object>"
      ]
     },
     "metadata": {},
     "output_type": "display_data"
    }
   ],
   "source": [
    "learn.fine_tune(4, 1e-2)"
   ]
  },
  {
   "cell_type": "code",
   "execution_count": null,
   "id": "e82936c4",
   "metadata": {},
   "outputs": [
    {
     "data": {
      "text/html": [],
      "text/plain": [
       "<IPython.core.display.HTML object>"
      ]
     },
     "metadata": {},
     "output_type": "display_data"
    },
    {
     "data": {
      "text/html": [
       "<table border=\"1\" class=\"dataframe\">\n",
       "  <thead>\n",
       "    <tr style=\"text-align: right;\">\n",
       "      <th></th>\n",
       "      <th>text</th>\n",
       "      <th>category</th>\n",
       "      <th>category_</th>\n",
       "    </tr>\n",
       "  </thead>\n",
       "  <tbody>\n",
       "    <tr>\n",
       "      <th>0</th>\n",
       "      <td>xxbos xxmaj there 's a sign on xxmaj the xxmaj lost xxmaj highway that says : \\n\\n * major xxup spoilers xxup ahead * \\n\\n ( but you already knew that , did n't you ? ) \\n\\n xxmaj since there 's a great deal of people that apparently did not get the point of this movie , xxmaj i 'd like to contribute my interpretation of why the plot makes perfect sense . xxmaj as others have pointed out , one single viewing of this movie is not sufficient . xxmaj if you have the xxup dvd of xxup md , you can \" cheat \" by looking at xxmaj david xxmaj lynch 's \" top 10 xxmaj hints to xxmaj unlocking xxup md \" ( but only upon second or third viewing , please . ) ;) \\n\\n xxmaj first of all , xxmaj mulholland xxmaj drive is</td>\n",
       "      <td>pos</td>\n",
       "      <td>pos</td>\n",
       "    </tr>\n",
       "    <tr>\n",
       "      <th>1</th>\n",
       "      <td>xxbos xxmaj if anyone ever assembles a compendium on modern xxmaj american horror that is truly worth it 's salt , there will * have * to be an entry for xxup sf xxmaj brownrigg 's xxunk xxunk in xxmaj asylum xxmaj horror . xxmaj every time i watch this movie i am impressed by the complete economy of the film , from the compact , totally self - contained plot with a puzzling beginning and an all too horrible ending , the engaging performances by what was essentially a group of non - professional actors , and a xxunk sense of dread and claustrophobia that effectively consumes the xxunk with a certain inevitability which is all the more terrifying because the viewers know what is going on long before the xxunk ] , with the only question being when are they going to wake up &amp; smell the coffee</td>\n",
       "      <td>pos</td>\n",
       "      <td>pos</td>\n",
       "    </tr>\n",
       "    <tr>\n",
       "      <th>2</th>\n",
       "      <td>xxbos xxmaj okay they tell you it 's real . xxmaj they do n't list any screenwriters or directors , but one viewing of this movie will prove to anyone - xxmaj it 's not real in the way you were hoping for . xxmaj the speaking rarely sounds like real natural talk … but also down not sound to be scripted . ( possibly loosely scripted ) . xxmaj to me it sounded much more like they were always trying to ad - lib . ( which they almost always did poorly ) . xxmaj therefore , they knew they were making a ' movie ' , not just collecting real natural footage . xxmaj so xxmaj i 'm sure these people knew what was going on , knew they had certain spots to look for things that were set up … and they were just told to ad</td>\n",
       "      <td>neg</td>\n",
       "      <td>neg</td>\n",
       "    </tr>\n",
       "    <tr>\n",
       "      <th>3</th>\n",
       "      <td>xxbos i am a pretty much a sucker for those xxmaj ghost xxmaj hunter shows . xxmaj from the xxmaj cheesy mockumentaries like xxmaj discovery xxmaj channel 's \" the xxmaj haunting \" to xxmaj scooby xxmaj doo xxmaj reality shows like \" ghost xxmaj hunters \" . xxmaj when i saw promos for a&amp;e 's \" paranormal xxmaj state \" i knew i was going to watch . xxmaj especially when \" paranormal xxmaj state \" was juxtaposed against a weak xxmaj monday xxmaj night xxmaj football game . \\n\\n xxmaj by the end of the pilot of \" paranormal xxmaj state \" when the main \" character \" in this reality dance macabre gives a xxmaj creepy xxmaj kid a bottle of xxmaj max xxmaj von xxmaj sydow xxmaj holy xxmaj water and reassures him by telling this boy that he , too , had a unspecified bad</td>\n",
       "      <td>neg</td>\n",
       "      <td>neg</td>\n",
       "    </tr>\n",
       "    <tr>\n",
       "      <th>4</th>\n",
       "      <td>xxbos xxmaj haha , what a great little movie ! xxmaj wayne xxmaj crawford strikes again , or rather this was his first big strike , a deliriously entertaining little ball of manic kitsch energy masquerading as a psycho killer movie . xxmaj it 's actually a * * brilliant * * satire on post - hippie xxmaj american culture in flyover country , though the movie was actually filmed independently in xxmaj miami . xxmaj it defies any kind of studio oriented convention or plot device that i can think of : xxup sometimes xxup aunt xxup martha xxup does xxup dreadful xxup things may not be a very technically adept movie , but it is a wonderful little slice of xxmaj americana , made on the cheap by people who were honest , ambitious , imaginative and had balls made out of steel . xxmaj it took guts</td>\n",
       "      <td>pos</td>\n",
       "      <td>pos</td>\n",
       "    </tr>\n",
       "    <tr>\n",
       "      <th>5</th>\n",
       "      <td>xxbos xxmaj dogtown and z - boys \\n\\n xxmaj summary : xxmaj dogtown and xxmaj z - boys is a documentary about a group of revolutionary teenagers that changed the world of surfing and skateboarding in xxmaj venice ( dogtown ) , xxmaj california as we know it today . xxmaj with their low pivotal style , they embarked on a xxmaj larry xxmaj xxunk influenced journey that would lead to countless successes and a couple failures . xxmaj after the xxmaj dogtown articles were featured in a reinstated xxmaj skateboarder xxmaj magazine , the sport was revamped and the members of the xxmaj zephyr skateboard team forgot about xxmaj jeff xxmaj ho , and looked to be on summer vacation for the rest of their lives by joining other skateboard teams that could afford to pay them like movie stars . xxmaj the original xxmaj zephyr xxmaj skateboard xxmaj</td>\n",
       "      <td>pos</td>\n",
       "      <td>pos</td>\n",
       "    </tr>\n",
       "    <tr>\n",
       "      <th>6</th>\n",
       "      <td>xxbos xxmaj the main achievement of this film is that though racially xxunk , the film still manages to carve out a tableaux of war portrayals that leave a lasting identification with whoever may view it , and whoever was present at this time . xxmaj though good films may have the ability of xxunk their subjects , which is often a hard thing to do ; great films have the ability of xxunk their xxunk subjects , which is what this film does . \\n\\n xxmaj instead of carving a context of unity , the film depicts the xxmaj japanese in the sick finality of the xxmaj phillipines war - front in xxmaj february , 1945 , making signs for pacifism or war , but rather making signs of the feelings , death , destruction , victory and sickness of war with the bloody hands of the xxunk different</td>\n",
       "      <td>pos</td>\n",
       "      <td>pos</td>\n",
       "    </tr>\n",
       "    <tr>\n",
       "      <th>7</th>\n",
       "      <td>xxbos xxmaj looking back on xxmaj jim xxmaj henson 's works years after his death is like taking a look back into another time . xxmaj for unlike most so - called creative types attempting to sell to , or worse yet cynically exploit , children nowadays , xxmaj jim never seemed to really forget what it was like to be a child . xxmaj and if there ever was a moment in which he demonstrated this , xxmaj labyrinth aside , it is 1979 's xxmaj muppet xxmaj movie . xxmaj filmed as an allegorical story about how xxmaj henson came to work in children 's television as a puppeteer and ended up with a half - hour show of his own on primetime television , xxmaj the xxmaj muppet xxmaj movie ends up an affirmation of everything more progressive , understanding sorts would say to children who did</td>\n",
       "      <td>pos</td>\n",
       "      <td>pos</td>\n",
       "    </tr>\n",
       "    <tr>\n",
       "      <th>8</th>\n",
       "      <td>xxbos xxmaj as a former xxmaj highland xxunk ) player , i feel like i can possibly answer some of the questions and confusion that has been put forward . i think that i am also in a position to offer some insight into the club and back stories . xxmaj oh , and this is gon na be a long post , i can tell already . \\n\\n xxmaj first off , the people who said that the movie does n't show real rugby , have a valid point . xxmaj the movie is full of bad tackles , people in the wrong places , and much much more . xxmaj if you want to know what a real rugby game feels like , you wo n't get the best idea from this movie . xxmaj but the thing is , anything short of actually sitting down and watching</td>\n",
       "      <td>pos</td>\n",
       "      <td>pos</td>\n",
       "    </tr>\n",
       "  </tbody>\n",
       "</table>"
      ],
      "text/plain": [
       "<IPython.core.display.HTML object>"
      ]
     },
     "metadata": {},
     "output_type": "display_data"
    }
   ],
   "source": [
    "learn.show_results()"
   ]
  },
  {
   "cell_type": "code",
   "execution_count": null,
   "id": "29dadac3",
   "metadata": {},
   "outputs": [
    {
     "data": {
      "text/html": [],
      "text/plain": [
       "<IPython.core.display.HTML object>"
      ]
     },
     "metadata": {},
     "output_type": "display_data"
    },
    {
     "data": {
      "text/plain": [
       "('pos', tensor(1), tensor([0.0092, 0.9908]))"
      ]
     },
     "execution_count": null,
     "metadata": {},
     "output_type": "execute_result"
    }
   ],
   "source": [
    "learn.predict(\"The movie was great.\")"
   ]
  },
  {
   "cell_type": "code",
   "execution_count": null,
   "id": "c38c38c5",
   "metadata": {},
   "outputs": [
    {
     "data": {
      "text/html": [],
      "text/plain": [
       "<IPython.core.display.HTML object>"
      ]
     },
     "metadata": {},
     "output_type": "display_data"
    },
    {
     "data": {
      "text/plain": [
       "('neg', tensor(0), tensor([0.9692, 0.0308]))"
      ]
     },
     "execution_count": null,
     "metadata": {},
     "output_type": "execute_result"
    }
   ],
   "source": [
    "learn.predict(\"The movie was not great.\")"
   ]
  },
  {
   "cell_type": "code",
   "execution_count": null,
   "id": "00d17bac",
   "metadata": {},
   "outputs": [
    {
     "data": {
      "text/html": [],
      "text/plain": [
       "<IPython.core.display.HTML object>"
      ]
     },
     "metadata": {},
     "output_type": "display_data"
    },
    {
     "data": {
      "text/plain": [
       "('neg', tensor(0), tensor([9.9902e-01, 9.7941e-04]))"
      ]
     },
     "execution_count": null,
     "metadata": {},
     "output_type": "execute_result"
    }
   ],
   "source": [
    "learn.predict(\"The movie was bad.\")"
   ]
  },
  {
   "cell_type": "code",
   "execution_count": null,
   "id": "d73481d7",
   "metadata": {},
   "outputs": [
    {
     "data": {
      "text/html": [],
      "text/plain": [
       "<IPython.core.display.HTML object>"
      ]
     },
     "metadata": {},
     "output_type": "display_data"
    },
    {
     "data": {
      "text/plain": [
       "('neg', tensor(0), tensor([9.9914e-01, 8.6224e-04]))"
      ]
     },
     "execution_count": null,
     "metadata": {},
     "output_type": "execute_result"
    }
   ],
   "source": [
    "learn.predict(\"The movie was not bad.\")"
   ]
  },
  {
   "cell_type": "code",
   "execution_count": null,
   "id": "f783b5c6",
   "metadata": {},
   "outputs": [],
   "source": [
    "with torch.no_grad():\n",
    "    torch.cuda.empty_cache()"
   ]
  },
  {
   "cell_type": "code",
   "execution_count": null,
   "id": "d3795eb1",
   "metadata": {},
   "outputs": [],
   "source": []
  }
 ],
 "metadata": {
  "kernelspec": {
   "display_name": "fastai",
   "language": "python",
   "name": "fastai"
  }
 },
 "nbformat": 4,
 "nbformat_minor": 5
}
